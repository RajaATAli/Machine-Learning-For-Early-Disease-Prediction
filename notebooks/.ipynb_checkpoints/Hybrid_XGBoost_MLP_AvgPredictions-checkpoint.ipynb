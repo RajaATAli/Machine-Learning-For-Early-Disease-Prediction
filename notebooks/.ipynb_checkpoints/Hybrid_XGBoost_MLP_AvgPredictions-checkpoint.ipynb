{
 "cells": [
  {
   "cell_type": "markdown",
   "id": "b58bd26b-ca64-43fa-89d9-0afb9bf6651c",
   "metadata": {},
   "source": [
    "**This hybrid approach will average predictions from two models**"
   ]
  },
  {
   "cell_type": "code",
   "execution_count": 21,
   "id": "8d94d959-bacd-49e7-877e-2fcc87b98ef5",
   "metadata": {},
   "outputs": [],
   "source": [
    "import pandas as pd\n",
    "import numpy as np\n",
    "import xgboost as xgb\n",
    "from sklearn.model_selection import train_test_split\n",
    "from sklearn.metrics import accuracy_score, roc_auc_score, confusion_matrix, classification_report\n",
    "from sklearn.preprocessing import StandardScaler\n",
    "import tensorflow as tf\n",
    "from tensorflow.keras.models import Sequential\n",
    "from tensorflow.keras.layers import Dense, Dropout\n",
    "from imblearn.over_sampling import SMOTE"
   ]
  },
  {
   "cell_type": "code",
   "execution_count": 22,
   "id": "8b4b580d-3d04-4b87-834d-f25841fa1a7e",
   "metadata": {},
   "outputs": [],
   "source": [
    "# Load and preprocess dataset\n",
    "data_filepath = '../data/processed/cleaned_diabetes_one_hot_encoding.csv'\n",
    "df = pd.read_csv(data_filepath)"
   ]
  },
  {
   "cell_type": "code",
   "execution_count": 23,
   "id": "b9d94d87-05ea-45ec-9bde-eaf20e0e6c70",
   "metadata": {},
   "outputs": [],
   "source": [
    "# Separate features and target\n",
    "X = df.drop('diabetes', axis=1)\n",
    "y = df['diabetes']\n",
    "\n",
    "# Address class imbalance with SMOTE\n",
    "smote = SMOTE(random_state=42)\n",
    "X_resampled, y_resampled = smote.fit_resample(X, y)"
   ]
  },
  {
   "cell_type": "code",
   "execution_count": 24,
   "id": "02829f70-ce48-470c-8d52-274baf7a018a",
   "metadata": {},
   "outputs": [],
   "source": [
    "# Split the data into training and test sets\n",
    "X_train, X_test, y_train, y_test = train_test_split(X_resampled, y_resampled, test_size=0.2, random_state=42)"
   ]
  },
  {
   "cell_type": "code",
   "execution_count": 25,
   "id": "87e77342-a276-4d08-8ada-b300dfa80b1b",
   "metadata": {},
   "outputs": [],
   "source": [
    "# Normalize the features for MLP\n",
    "scaler = StandardScaler()\n",
    "X_train_scaled = scaler.fit_transform(X_train)\n",
    "X_test_scaled = scaler.transform(X_test)"
   ]
  },
  {
   "cell_type": "code",
   "execution_count": 26,
   "id": "c41b3bb0-2976-47e3-ab76-41e3442625c6",
   "metadata": {},
   "outputs": [],
   "source": [
    "# XGBoost Model Training\n",
    "xgb_model = xgb.XGBClassifier(\n",
    "    colsample_bytree=0.8647783037718892,\n",
    "    learning_rate=0.04840129264965742,\n",
    "    max_depth=4,  # Adjusted from original 'max_depth': 1, adding 3 as per adjustment logic\n",
    "    min_child_weight=1.0,\n",
    "    n_estimators=329,\n",
    "    subsample=0.9160065601766973,\n",
    "    objective='binary:logistic',\n",
    "    seed=42\n",
    ")\n",
    "xgb_model.fit(X_train, y_train)\n",
    "y_pred_xgb = xgb_model.predict_proba(X_test)[:, 1]"
   ]
  },
  {
   "cell_type": "code",
   "execution_count": 28,
   "id": "16b3c882-4aa4-4ea8-a7a9-9244c184616f",
   "metadata": {},
   "outputs": [
    {
     "name": "stdout",
     "output_type": "stream",
     "text": [
      "1033/1033 [==============================] - 1s 699us/step\n"
     ]
    }
   ],
   "source": [
    "# MLP Model Training\n",
    "mlp_model = Sequential([\n",
    "    Dense(128, activation='relu', input_shape=(X_train_scaled.shape[1],)),\n",
    "    Dropout(0.5),\n",
    "    Dense(64, activation='relu'),\n",
    "    Dropout(0.5),\n",
    "    Dense(1, activation='sigmoid')\n",
    "])\n",
    "mlp_model.compile(optimizer='adam', loss='binary_crossentropy', metrics=['accuracy'])\n",
    "mlp_model.fit(X_train_scaled, y_train, epochs=100, validation_split=0.2, batch_size=64, verbose=0)\n",
    "y_pred_mlp = mlp_model.predict(X_test_scaled).ravel()"
   ]
  },
  {
   "cell_type": "code",
   "execution_count": 29,
   "id": "5d5f6a66-6e5b-4e18-ab43-bc98ba9f59fa",
   "metadata": {},
   "outputs": [
    {
     "name": "stdout",
     "output_type": "stream",
     "text": [
      "Combined Model Accuracy: 0.9733369650747533\n",
      "Combined Model ROC AUC: 0.9969812659083899\n",
      "Combined Model Confusion Matrix:\n",
      " [[16175   223]\n",
      " [  658 15986]]\n",
      "Combined Model Classification Report:\n",
      "               precision    recall  f1-score   support\n",
      "\n",
      "           0       0.96      0.99      0.97     16398\n",
      "           1       0.99      0.96      0.97     16644\n",
      "\n",
      "    accuracy                           0.97     33042\n",
      "   macro avg       0.97      0.97      0.97     33042\n",
      "weighted avg       0.97      0.97      0.97     33042\n",
      "\n"
     ]
    }
   ],
   "source": [
    "# Combine predictions by averaging the probability scores\n",
    "combined_pred_prob = (y_pred_xgb + y_pred_mlp) / 2\n",
    "combined_pred_final = np.where(combined_pred_prob > 0.5, 1, 0)\n",
    "\n",
    "# Evaluation\n",
    "accuracy_combined = accuracy_score(y_test, combined_pred_final)\n",
    "roc_auc_combined = roc_auc_score(y_test, combined_pred_prob)\n",
    "conf_matrix_combined = confusion_matrix(y_test, combined_pred_final)\n",
    "class_report_combined = classification_report(y_test, combined_pred_final)\n",
    "\n",
    "# Displaying the combined model results\n",
    "print(f\"Combined Model Accuracy: {accuracy_combined}\")\n",
    "print(f\"Combined Model ROC AUC: {roc_auc_combined}\")\n",
    "print(\"Combined Model Confusion Matrix:\\n\", conf_matrix_combined)\n",
    "print(\"Combined Model Classification Report:\\n\", class_report_combined)"
   ]
  },
  {
   "cell_type": "code",
   "execution_count": 30,
   "id": "790f3722-8a1d-4571-8db9-a3180a3a93e9",
   "metadata": {},
   "outputs": [
    {
     "data": {
      "text/plain": [
       "'\\nResults from previous run:\\nCombined Model Accuracy: 0.9733369650747533\\nCombined Model ROC AUC: 0.9969812659083899\\nCombined Model Confusion Matrix:\\n [[16175   223]\\n [  658 15986]]\\nCombined Model Classification Report:\\n               precision    recall  f1-score   support\\n\\n           0       0.96      0.99      0.97     16398\\n           1       0.99      0.96      0.97     16644\\n\\n    accuracy                           0.97     33042\\n   macro avg       0.97      0.97      0.97     33042\\nweighted avg       0.97      0.97      0.97     33042\\n\\n'"
      ]
     },
     "execution_count": 30,
     "metadata": {},
     "output_type": "execute_result"
    }
   ],
   "source": [
    "'''\n",
    "Results from previous run:\n",
    "Combined Model Accuracy: 0.9733369650747533\n",
    "Combined Model ROC AUC: 0.9969812659083899\n",
    "Combined Model Confusion Matrix:\n",
    " [[16175   223]\n",
    " [  658 15986]]\n",
    "Combined Model Classification Report:\n",
    "               precision    recall  f1-score   support\n",
    "\n",
    "           0       0.96      0.99      0.97     16398\n",
    "           1       0.99      0.96      0.97     16644\n",
    "\n",
    "    accuracy                           0.97     33042\n",
    "   macro avg       0.97      0.97      0.97     33042\n",
    "weighted avg       0.97      0.97      0.97     33042\n",
    "\n",
    "'''"
   ]
  },
  {
   "cell_type": "code",
   "execution_count": null,
   "id": "af7b59a7-368a-4b6e-bf6f-f7b373edacb2",
   "metadata": {},
   "outputs": [],
   "source": []
  }
 ],
 "metadata": {
  "kernelspec": {
   "display_name": "Python 3 (ipykernel)",
   "language": "python",
   "name": "python3"
  },
  "language_info": {
   "codemirror_mode": {
    "name": "ipython",
    "version": 3
   },
   "file_extension": ".py",
   "mimetype": "text/x-python",
   "name": "python",
   "nbconvert_exporter": "python",
   "pygments_lexer": "ipython3",
   "version": "3.11.5"
  }
 },
 "nbformat": 4,
 "nbformat_minor": 5
}
