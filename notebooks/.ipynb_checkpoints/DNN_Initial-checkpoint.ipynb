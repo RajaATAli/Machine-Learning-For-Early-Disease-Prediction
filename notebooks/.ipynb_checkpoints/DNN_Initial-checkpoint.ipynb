{
 "cells": [
  {
   "cell_type": "markdown",
   "id": "b8874439-f79c-4b0a-8159-3f75e97252ed",
   "metadata": {},
   "source": [
    "## DNN - Deep Learning"
   ]
  },
  {
   "cell_type": "code",
   "execution_count": 45,
   "id": "425a5438-acdf-42d1-b692-b6e05a0917d6",
   "metadata": {},
   "outputs": [],
   "source": [
    "import numpy as np\n",
    "import pandas as pd\n",
    "from sklearn.model_selection import train_test_split\n",
    "from sklearn.preprocessing import StandardScaler\n",
    "from tensorflow.keras.models import Sequential, load_model\n",
    "from tensorflow.keras.layers import Dense, Dropout\n",
    "from tensorflow.keras.optimizers import Adam\n",
    "from tensorflow.keras.callbacks import EarlyStopping, ModelCheckpoint\n",
    "from sklearn.metrics import roc_auc_score, confusion_matrix, classification_report"
   ]
  },
  {
   "cell_type": "markdown",
   "id": "8fe307d8-edd9-448d-9bff-3747183c544a",
   "metadata": {},
   "source": [
    "#### Loading and Preparing the Dataset"
   ]
  },
  {
   "cell_type": "code",
   "execution_count": 16,
   "id": "c7f9b204-ca8c-4931-8fc0-b119f4a3d876",
   "metadata": {},
   "outputs": [
    {
     "name": "stdout",
     "output_type": "stream",
     "text": [
      "    age  hypertension  heart_disease    bmi  HbA1c_level  blood_glucose_level  \\\n",
      "0  80.0             0              1  25.19          6.6                  140   \n",
      "1  54.0             0              0  27.32          6.6                   80   \n",
      "2  28.0             0              0  27.32          5.7                  158   \n",
      "3  36.0             0              0  23.45          5.0                  155   \n",
      "4  76.0             1              1  20.14          4.8                  155   \n",
      "\n",
      "   diabetes  gender_Female  gender_Male  gender_Other  \\\n",
      "0         0              1            0             0   \n",
      "1         0              1            0             0   \n",
      "2         0              0            1             0   \n",
      "3         0              1            0             0   \n",
      "4         0              0            1             0   \n",
      "\n",
      "   smoking_history_No Info  smoking_history_current  smoking_history_former  \\\n",
      "0                        0                        0                       0   \n",
      "1                        1                        0                       0   \n",
      "2                        0                        0                       0   \n",
      "3                        0                        1                       0   \n",
      "4                        0                        1                       0   \n",
      "\n",
      "   smoking_history_never  smoking_history_not current  \n",
      "0                      1                            0  \n",
      "1                      0                            0  \n",
      "2                      1                            0  \n",
      "3                      0                            0  \n",
      "4                      0                            0  \n"
     ]
    }
   ],
   "source": [
    "# Load the dataset\n",
    "data_filepath = '../data/processed/cleaned_diabetes_one_hot_encoding.csv'\n",
    "df = pd.read_csv(data_filepath)\n",
    "print(df.head())\n",
    "\n",
    "# Separate features and target variable\n",
    "X = df.drop('diabetes', axis=1)\n",
    "y = df['diabetes']\n",
    "\n",
    "# Split the data into training, validation, and test sets\n",
    "X_train, X_temp, y_train, y_temp = train_test_split(X, y, test_size=0.2, random_state=42)\n",
    "X_val, X_test, y_val, y_test = train_test_split(X_temp, y_temp, test_size=0.5, random_state=42)\n",
    "\n",
    "# Optionally normalize the features\n",
    "scaler = StandardScaler()\n",
    "X_train = scaler.fit_transform(X_train)\n",
    "X_val = scaler.transform(X_val)\n",
    "X_test = scaler.transform(X_test)"
   ]
  },
  {
   "cell_type": "markdown",
   "id": "7cc6c03b-948f-45dd-98e4-b581378c4626",
   "metadata": {},
   "source": [
    "#### Building the DNN Model"
   ]
  },
  {
   "cell_type": "code",
   "execution_count": 17,
   "id": "1ccb4b76-ca79-42ca-8a74-3efe924f3229",
   "metadata": {},
   "outputs": [],
   "source": [
    "model = Sequential([\n",
    "    Dense(128, activation='relu', input_shape=(X_train.shape[1],)),\n",
    "    Dropout(0.2),\n",
    "    Dense(64, activation='relu'),\n",
    "    Dropout(0.2),\n",
    "    Dense(1, activation='sigmoid')\n",
    "])"
   ]
  },
  {
   "cell_type": "markdown",
   "id": "51b00eed-fa6f-4a80-ba56-71a20d58f119",
   "metadata": {},
   "source": [
    "#### Compiling the Model"
   ]
  },
  {
   "cell_type": "code",
   "execution_count": 18,
   "id": "466f4b8c-8b89-4720-92c7-53035a59d40b",
   "metadata": {},
   "outputs": [],
   "source": [
    "model.compile(optimizer=Adam(learning_rate=0.001),\n",
    "              loss='binary_crossentropy',\n",
    "              metrics=['accuracy'])"
   ]
  },
  {
   "cell_type": "markdown",
   "id": "b1174034-0429-47c0-8c2f-e584b491512b",
   "metadata": {},
   "source": [
    "#### Training Model"
   ]
  },
  {
   "cell_type": "code",
   "execution_count": 19,
   "id": "5e58c91c-18a3-4389-b3de-19a64794086d",
   "metadata": {},
   "outputs": [],
   "source": [
    "callbacks = [\n",
    "    EarlyStopping(monitor='val_loss', patience=10, verbose=1, mode='min'),\n",
    "    ModelCheckpoint('best_model.h5', monitor='val_loss', save_best_only=True, mode='min', verbose=1)\n",
    "]"
   ]
  },
  {
   "cell_type": "code",
   "execution_count": 20,
   "id": "9adf8452-7bdd-439c-9603-1d98102bb338",
   "metadata": {},
   "outputs": [
    {
     "name": "stdout",
     "output_type": "stream",
     "text": [
      "Epoch 1/100\n",
      "2213/2231 [============================>.] - ETA: 0s - loss: 0.1161 - accuracy: 0.9606\n",
      "Epoch 1: val_loss improved from inf to 0.09810, saving model to best_model.h5\n",
      "2231/2231 [==============================] - 7s 3ms/step - loss: 0.1158 - accuracy: 0.9606 - val_loss: 0.0981 - val_accuracy: 0.9683\n",
      "Epoch 2/100\n",
      "  66/2231 [..............................] - ETA: 5s - loss: 0.0915 - accuracy: 0.9725"
     ]
    },
    {
     "name": "stderr",
     "output_type": "stream",
     "text": [
      "/N/soft/sles15/deeplearning/Python-3.11.5/lib/python3.11/site-packages/keras/src/engine/training.py:3079: UserWarning: You are saving your model as an HDF5 file via `model.save()`. This file format is considered legacy. We recommend using instead the native Keras format, e.g. `model.save('my_model.keras')`.\n",
      "  saving_api.save_model(\n"
     ]
    },
    {
     "name": "stdout",
     "output_type": "stream",
     "text": [
      "2228/2231 [============================>.] - ETA: 0s - loss: 0.0947 - accuracy: 0.9695\n",
      "Epoch 2: val_loss improved from 0.09810 to 0.08721, saving model to best_model.h5\n",
      "2231/2231 [==============================] - 5s 2ms/step - loss: 0.0946 - accuracy: 0.9695 - val_loss: 0.0872 - val_accuracy: 0.9723\n",
      "Epoch 3/100\n",
      "2231/2231 [==============================] - ETA: 0s - loss: 0.0865 - accuracy: 0.9720\n",
      "Epoch 3: val_loss improved from 0.08721 to 0.08281, saving model to best_model.h5\n",
      "2231/2231 [==============================] - 5s 2ms/step - loss: 0.0865 - accuracy: 0.9720 - val_loss: 0.0828 - val_accuracy: 0.9734\n",
      "Epoch 4/100\n",
      "2215/2231 [============================>.] - ETA: 0s - loss: 0.0827 - accuracy: 0.9733\n",
      "Epoch 4: val_loss improved from 0.08281 to 0.08278, saving model to best_model.h5\n",
      "2231/2231 [==============================] - 6s 3ms/step - loss: 0.0826 - accuracy: 0.9734 - val_loss: 0.0828 - val_accuracy: 0.9731\n",
      "Epoch 5/100\n",
      "2227/2231 [============================>.] - ETA: 0s - loss: 0.0815 - accuracy: 0.9735\n",
      "Epoch 5: val_loss improved from 0.08278 to 0.08045, saving model to best_model.h5\n",
      "2231/2231 [==============================] - 6s 2ms/step - loss: 0.0815 - accuracy: 0.9736 - val_loss: 0.0805 - val_accuracy: 0.9738\n",
      "Epoch 6/100\n",
      "2216/2231 [============================>.] - ETA: 0s - loss: 0.0807 - accuracy: 0.9740\n",
      "Epoch 6: val_loss did not improve from 0.08045\n",
      "2231/2231 [==============================] - 6s 2ms/step - loss: 0.0805 - accuracy: 0.9741 - val_loss: 0.0814 - val_accuracy: 0.9741\n",
      "Epoch 7/100\n",
      "2221/2231 [============================>.] - ETA: 0s - loss: 0.0790 - accuracy: 0.9746\n",
      "Epoch 7: val_loss did not improve from 0.08045\n",
      "2231/2231 [==============================] - 5s 2ms/step - loss: 0.0789 - accuracy: 0.9746 - val_loss: 0.0810 - val_accuracy: 0.9742\n",
      "Epoch 8/100\n",
      "2230/2231 [============================>.] - ETA: 0s - loss: 0.0788 - accuracy: 0.9744\n",
      "Epoch 8: val_loss improved from 0.08045 to 0.07894, saving model to best_model.h5\n",
      "2231/2231 [==============================] - 6s 2ms/step - loss: 0.0788 - accuracy: 0.9744 - val_loss: 0.0789 - val_accuracy: 0.9741\n",
      "Epoch 9/100\n",
      "2209/2231 [============================>.] - ETA: 0s - loss: 0.0779 - accuracy: 0.9750\n",
      "Epoch 9: val_loss did not improve from 0.07894\n",
      "2231/2231 [==============================] - 5s 2ms/step - loss: 0.0782 - accuracy: 0.9749 - val_loss: 0.0799 - val_accuracy: 0.9740\n",
      "Epoch 10/100\n",
      "2214/2231 [============================>.] - ETA: 0s - loss: 0.0779 - accuracy: 0.9747\n",
      "Epoch 10: val_loss did not improve from 0.07894\n",
      "2231/2231 [==============================] - 6s 2ms/step - loss: 0.0778 - accuracy: 0.9747 - val_loss: 0.0806 - val_accuracy: 0.9742\n",
      "Epoch 11/100\n",
      "2228/2231 [============================>.] - ETA: 0s - loss: 0.0769 - accuracy: 0.9750\n",
      "Epoch 11: val_loss improved from 0.07894 to 0.07892, saving model to best_model.h5\n",
      "2231/2231 [==============================] - 5s 2ms/step - loss: 0.0769 - accuracy: 0.9750 - val_loss: 0.0789 - val_accuracy: 0.9743\n",
      "Epoch 12/100\n",
      "2218/2231 [============================>.] - ETA: 0s - loss: 0.0769 - accuracy: 0.9751\n",
      "Epoch 12: val_loss did not improve from 0.07892\n",
      "2231/2231 [==============================] - 5s 2ms/step - loss: 0.0769 - accuracy: 0.9752 - val_loss: 0.0803 - val_accuracy: 0.9731\n",
      "Epoch 13/100\n",
      "2231/2231 [==============================] - ETA: 0s - loss: 0.0767 - accuracy: 0.9749\n",
      "Epoch 13: val_loss improved from 0.07892 to 0.07832, saving model to best_model.h5\n",
      "2231/2231 [==============================] - 6s 2ms/step - loss: 0.0767 - accuracy: 0.9749 - val_loss: 0.0783 - val_accuracy: 0.9737\n",
      "Epoch 14/100\n",
      "2225/2231 [============================>.] - ETA: 0s - loss: 0.0767 - accuracy: 0.9752\n",
      "Epoch 14: val_loss improved from 0.07832 to 0.07798, saving model to best_model.h5\n",
      "2231/2231 [==============================] - 5s 2ms/step - loss: 0.0766 - accuracy: 0.9752 - val_loss: 0.0780 - val_accuracy: 0.9747\n",
      "Epoch 15/100\n",
      "2211/2231 [============================>.] - ETA: 0s - loss: 0.0762 - accuracy: 0.9754\n",
      "Epoch 15: val_loss did not improve from 0.07798\n",
      "2231/2231 [==============================] - 6s 2ms/step - loss: 0.0762 - accuracy: 0.9753 - val_loss: 0.0785 - val_accuracy: 0.9743\n",
      "Epoch 16/100\n",
      "2209/2231 [============================>.] - ETA: 0s - loss: 0.0755 - accuracy: 0.9756\n",
      "Epoch 16: val_loss improved from 0.07798 to 0.07797, saving model to best_model.h5\n",
      "2231/2231 [==============================] - 5s 2ms/step - loss: 0.0758 - accuracy: 0.9755 - val_loss: 0.0780 - val_accuracy: 0.9746\n",
      "Epoch 17/100\n",
      "2226/2231 [============================>.] - ETA: 0s - loss: 0.0761 - accuracy: 0.9754\n",
      "Epoch 17: val_loss did not improve from 0.07797\n",
      "2231/2231 [==============================] - 5s 2ms/step - loss: 0.0761 - accuracy: 0.9754 - val_loss: 0.0782 - val_accuracy: 0.9746\n",
      "Epoch 18/100\n",
      "2228/2231 [============================>.] - ETA: 0s - loss: 0.0772 - accuracy: 0.9751\n",
      "Epoch 18: val_loss improved from 0.07797 to 0.07791, saving model to best_model.h5\n",
      "2231/2231 [==============================] - 5s 2ms/step - loss: 0.0772 - accuracy: 0.9751 - val_loss: 0.0779 - val_accuracy: 0.9747\n",
      "Epoch 19/100\n",
      "2213/2231 [============================>.] - ETA: 0s - loss: 0.0752 - accuracy: 0.9756\n",
      "Epoch 19: val_loss did not improve from 0.07791\n",
      "2231/2231 [==============================] - 5s 2ms/step - loss: 0.0753 - accuracy: 0.9755 - val_loss: 0.0782 - val_accuracy: 0.9747\n",
      "Epoch 20/100\n",
      "2220/2231 [============================>.] - ETA: 0s - loss: 0.0755 - accuracy: 0.9753\n",
      "Epoch 20: val_loss did not improve from 0.07791\n",
      "2231/2231 [==============================] - 6s 2ms/step - loss: 0.0755 - accuracy: 0.9752 - val_loss: 0.0780 - val_accuracy: 0.9747\n",
      "Epoch 21/100\n",
      "2225/2231 [============================>.] - ETA: 0s - loss: 0.0749 - accuracy: 0.9756\n",
      "Epoch 21: val_loss did not improve from 0.07791\n",
      "2231/2231 [==============================] - 5s 2ms/step - loss: 0.0748 - accuracy: 0.9756 - val_loss: 0.0781 - val_accuracy: 0.9746\n",
      "Epoch 22/100\n",
      "2216/2231 [============================>.] - ETA: 0s - loss: 0.0747 - accuracy: 0.9758\n",
      "Epoch 22: val_loss did not improve from 0.07791\n",
      "2231/2231 [==============================] - 5s 2ms/step - loss: 0.0747 - accuracy: 0.9758 - val_loss: 0.0784 - val_accuracy: 0.9745\n",
      "Epoch 23/100\n",
      "2209/2231 [============================>.] - ETA: 0s - loss: 0.0751 - accuracy: 0.9754\n",
      "Epoch 23: val_loss did not improve from 0.07791\n",
      "2231/2231 [==============================] - 5s 2ms/step - loss: 0.0752 - accuracy: 0.9754 - val_loss: 0.0780 - val_accuracy: 0.9746\n",
      "Epoch 24/100\n",
      "2216/2231 [============================>.] - ETA: 0s - loss: 0.0750 - accuracy: 0.9757\n",
      "Epoch 24: val_loss did not improve from 0.07791\n",
      "2231/2231 [==============================] - 5s 2ms/step - loss: 0.0747 - accuracy: 0.9758 - val_loss: 0.0784 - val_accuracy: 0.9743\n",
      "Epoch 25/100\n",
      "2218/2231 [============================>.] - ETA: 0s - loss: 0.0748 - accuracy: 0.9756\n",
      "Epoch 25: val_loss did not improve from 0.07791\n",
      "2231/2231 [==============================] - 5s 2ms/step - loss: 0.0747 - accuracy: 0.9756 - val_loss: 0.0783 - val_accuracy: 0.9745\n",
      "Epoch 26/100\n",
      "2231/2231 [==============================] - ETA: 0s - loss: 0.0748 - accuracy: 0.9756\n",
      "Epoch 26: val_loss did not improve from 0.07791\n",
      "2231/2231 [==============================] - 5s 2ms/step - loss: 0.0748 - accuracy: 0.9756 - val_loss: 0.0784 - val_accuracy: 0.9745\n",
      "Epoch 27/100\n",
      "2224/2231 [============================>.] - ETA: 0s - loss: 0.0746 - accuracy: 0.9756\n",
      "Epoch 27: val_loss did not improve from 0.07791\n",
      "2231/2231 [==============================] - 5s 2ms/step - loss: 0.0747 - accuracy: 0.9756 - val_loss: 0.0783 - val_accuracy: 0.9745\n",
      "Epoch 28/100\n",
      "2212/2231 [============================>.] - ETA: 0s - loss: 0.0750 - accuracy: 0.9756\n",
      "Epoch 28: val_loss did not improve from 0.07791\n",
      "2231/2231 [==============================] - 5s 2ms/step - loss: 0.0750 - accuracy: 0.9756 - val_loss: 0.0783 - val_accuracy: 0.9746\n",
      "Epoch 28: early stopping\n"
     ]
    }
   ],
   "source": [
    "history = model.fit(X_train, y_train, validation_data=(X_val, y_val),\n",
    "                    epochs=100, batch_size=32, callbacks=callbacks, verbose=1)"
   ]
  },
  {
   "cell_type": "markdown",
   "id": "8ea9a94a-6a61-4a5d-a0f5-ef1dc12920c8",
   "metadata": {},
   "source": [
    "#### Evaluating Model"
   ]
  },
  {
   "cell_type": "code",
   "execution_count": 21,
   "id": "bf22f2d8-9c8a-40ad-8bbf-c4735e639d64",
   "metadata": {},
   "outputs": [
    {
     "name": "stdout",
     "output_type": "stream",
     "text": [
      "279/279 [==============================] - 0s 831us/step\n",
      "ROC AUC: 0.9748\n",
      "Confusion Matrix:\n",
      "[[8217    0]\n",
      " [ 241  466]]\n",
      "Classification Report:\n",
      "                 precision    recall  f1-score   support\n",
      "\n",
      "              0  0.971506266256798 1.000000000000000 0.985547226386807      8217\n",
      "              1  1.000000000000000 0.659123055162659 0.794543904518329       707\n",
      "\n",
      "       accuracy                      0.972994173016585      8924\n",
      "      macro avg  0.985753133128399 0.829561527581330 0.890045565452568      8924\n",
      "   weighted avg  0.973763669860165 0.972994173016585 0.970415071684765      8924\n",
      "\n"
     ]
    }
   ],
   "source": [
    "# Load the best saved model\n",
    "best_model = load_model('best_model.h5')\n",
    "\n",
    "# Predict probabilities on the test set\n",
    "y_pred_probs = best_model.predict(X_test)\n",
    "\n",
    "# Convert probabilities to binary predictions\n",
    "y_pred = (y_pred_probs > 0.5).astype(\"int32\")\n",
    "\n",
    "# Calculate ROC AUC Score\n",
    "roc_auc = roc_auc_score(y_test, y_pred_probs)\n",
    "print(f\"ROC AUC: {roc_auc:.4f}\")\n",
    "\n",
    "# Confusion Matrix\n",
    "cm = confusion_matrix(y_test, y_pred)\n",
    "print(\"Confusion Matrix:\")\n",
    "print(cm)\n",
    "\n",
    "# Classification Report (precision, recall, f1-score)\n",
    "print(\"Classification Report:\")\n",
    "print(classification_report(y_test, y_pred, digits=15))"
   ]
  },
  {
   "cell_type": "markdown",
   "id": "43e67b75-8425-4ad5-82c9-ac4787dd5cc4",
   "metadata": {},
   "source": [
    "#### Adusting Model Complexity and and Regularization"
   ]
  },
  {
   "cell_type": "code",
   "execution_count": 27,
   "id": "87ccf3c6-6fd1-4ca8-afb4-36c3a97215a5",
   "metadata": {},
   "outputs": [],
   "source": [
    "from tensorflow.keras.layers import BatchNormalization, Activation\n",
    "from tensorflow.keras.regularizers import l2\n",
    "\n",
    "def build_model(input_shape):\n",
    "    model = Sequential([\n",
    "        Dense(128, kernel_regularizer=l2(0.001), input_shape=(input_shape,)),\n",
    "        BatchNormalization(),\n",
    "        Activation('relu'),\n",
    "        Dropout(0.3),\n",
    "        Dense(64, kernel_regularizer=l2(0.001)),\n",
    "        BatchNormalization(),\n",
    "        Activation('relu'),\n",
    "        Dropout(0.3),\n",
    "        Dense(1, activation='sigmoid')\n",
    "    ])\n",
    "    return model"
   ]
  },
  {
   "cell_type": "markdown",
   "id": "54013c79-5b65-400b-b4a7-cccaf83f75ab",
   "metadata": {},
   "source": [
    "##### Optimizer Adjustment"
   ]
  },
  {
   "cell_type": "code",
   "execution_count": 28,
   "id": "afea0b70-4c17-43bb-9fd1-f247b2674f99",
   "metadata": {},
   "outputs": [],
   "source": [
    "model = build_model(X_train.shape[1])\n",
    "\n",
    "model.compile(optimizer=Adam(learning_rate=0.001),\n",
    "              loss='binary_crossentropy',\n",
    "              metrics=['accuracy', 'AUC'])"
   ]
  },
  {
   "cell_type": "markdown",
   "id": "3c8ee8ec-705c-42f8-b9a6-a168873d63e5",
   "metadata": {},
   "source": [
    "##### Introducing Learning Rate Scheduler and Training Model"
   ]
  },
  {
   "cell_type": "code",
   "execution_count": 30,
   "id": "df25da23-e71f-4db8-b3e7-8c5e28159f45",
   "metadata": {},
   "outputs": [
    {
     "name": "stdout",
     "output_type": "stream",
     "text": [
      "Epoch 1/100\n",
      "2221/2231 [============================>.] - ETA: 0s - loss: 0.1146 - accuracy: 0.9647 - auc: 0.9610\n",
      "Epoch 1: val_loss improved from inf to 0.10133, saving model to best_adjusted_model.tf\n",
      "INFO:tensorflow:Assets written to: best_adjusted_model.tf/assets\n"
     ]
    },
    {
     "name": "stderr",
     "output_type": "stream",
     "text": [
      "INFO:tensorflow:Assets written to: best_adjusted_model.tf/assets\n"
     ]
    },
    {
     "name": "stdout",
     "output_type": "stream",
     "text": [
      "2231/2231 [==============================] - 10s 5ms/step - loss: 0.1145 - accuracy: 0.9648 - auc: 0.9610 - val_loss: 0.1013 - val_accuracy: 0.9695 - val_auc: 0.9681 - lr: 0.0010\n",
      "Epoch 2/100\n",
      "2229/2231 [============================>.] - ETA: 0s - loss: 0.1134 - accuracy: 0.9643 - auc: 0.9618\n",
      "Epoch 2: val_loss did not improve from 0.10133\n",
      "2231/2231 [==============================] - 8s 4ms/step - loss: 0.1133 - accuracy: 0.9643 - auc: 0.9618 - val_loss: 0.1046 - val_accuracy: 0.9675 - val_auc: 0.9666 - lr: 0.0010\n",
      "Epoch 3/100\n",
      "2221/2231 [============================>.] - ETA: 0s - loss: 0.1145 - accuracy: 0.9644 - auc: 0.9609\n",
      "Epoch 3: val_loss improved from 0.10133 to 0.10058, saving model to best_adjusted_model.tf\n",
      "INFO:tensorflow:Assets written to: best_adjusted_model.tf/assets\n"
     ]
    },
    {
     "name": "stderr",
     "output_type": "stream",
     "text": [
      "INFO:tensorflow:Assets written to: best_adjusted_model.tf/assets\n"
     ]
    },
    {
     "name": "stdout",
     "output_type": "stream",
     "text": [
      "2231/2231 [==============================] - 10s 4ms/step - loss: 0.1144 - accuracy: 0.9644 - auc: 0.9609 - val_loss: 0.1006 - val_accuracy: 0.9688 - val_auc: 0.9686 - lr: 0.0010\n",
      "Epoch 4/100\n",
      "2229/2231 [============================>.] - ETA: 0s - loss: 0.1135 - accuracy: 0.9644 - auc: 0.9624\n",
      "Epoch 4: val_loss improved from 0.10058 to 0.09987, saving model to best_adjusted_model.tf\n",
      "INFO:tensorflow:Assets written to: best_adjusted_model.tf/assets\n"
     ]
    },
    {
     "name": "stderr",
     "output_type": "stream",
     "text": [
      "INFO:tensorflow:Assets written to: best_adjusted_model.tf/assets\n"
     ]
    },
    {
     "name": "stdout",
     "output_type": "stream",
     "text": [
      "2231/2231 [==============================] - 11s 5ms/step - loss: 0.1135 - accuracy: 0.9644 - auc: 0.9624 - val_loss: 0.0999 - val_accuracy: 0.9699 - val_auc: 0.9702 - lr: 0.0010\n",
      "Epoch 5/100\n",
      "2227/2231 [============================>.] - ETA: 0s - loss: 0.1142 - accuracy: 0.9642 - auc: 0.9611\n",
      "Epoch 5: val_loss did not improve from 0.09987\n",
      "2231/2231 [==============================] - 9s 4ms/step - loss: 0.1141 - accuracy: 0.9642 - auc: 0.9611 - val_loss: 0.1013 - val_accuracy: 0.9685 - val_auc: 0.9701 - lr: 0.0010\n",
      "Epoch 6/100\n",
      "2222/2231 [============================>.] - ETA: 0s - loss: 0.1129 - accuracy: 0.9647 - auc: 0.9618\n",
      "Epoch 6: val_loss did not improve from 0.09987\n",
      "2231/2231 [==============================] - 9s 4ms/step - loss: 0.1130 - accuracy: 0.9647 - auc: 0.9617 - val_loss: 0.1000 - val_accuracy: 0.9695 - val_auc: 0.9688 - lr: 0.0010\n",
      "Epoch 7/100\n",
      "2221/2231 [============================>.] - ETA: 0s - loss: 0.1143 - accuracy: 0.9647 - auc: 0.9603\n",
      "Epoch 7: val_loss did not improve from 0.09987\n",
      "2231/2231 [==============================] - 8s 4ms/step - loss: 0.1144 - accuracy: 0.9646 - auc: 0.9603 - val_loss: 0.1007 - val_accuracy: 0.9695 - val_auc: 0.9680 - lr: 0.0010\n",
      "Epoch 8/100\n",
      "2223/2231 [============================>.] - ETA: 0s - loss: 0.1133 - accuracy: 0.9646 - auc: 0.9613\n",
      "Epoch 8: val_loss did not improve from 0.09987\n",
      "2231/2231 [==============================] - 8s 4ms/step - loss: 0.1133 - accuracy: 0.9645 - auc: 0.9614 - val_loss: 0.1019 - val_accuracy: 0.9694 - val_auc: 0.9678 - lr: 0.0010\n",
      "Epoch 9/100\n",
      "2225/2231 [============================>.] - ETA: 0s - loss: 0.1139 - accuracy: 0.9642 - auc: 0.9618\n",
      "Epoch 9: val_loss did not improve from 0.09987\n",
      "2231/2231 [==============================] - 8s 4ms/step - loss: 0.1139 - accuracy: 0.9642 - auc: 0.9618 - val_loss: 0.1039 - val_accuracy: 0.9696 - val_auc: 0.9683 - lr: 0.0010\n",
      "Epoch 10/100\n",
      "2219/2231 [============================>.] - ETA: 0s - loss: 0.1119 - accuracy: 0.9645 - auc: 0.9625\n",
      "Epoch 10: val_loss improved from 0.09987 to 0.09986, saving model to best_adjusted_model.tf\n",
      "INFO:tensorflow:Assets written to: best_adjusted_model.tf/assets\n"
     ]
    },
    {
     "name": "stderr",
     "output_type": "stream",
     "text": [
      "INFO:tensorflow:Assets written to: best_adjusted_model.tf/assets\n"
     ]
    },
    {
     "name": "stdout",
     "output_type": "stream",
     "text": [
      "2231/2231 [==============================] - 10s 5ms/step - loss: 0.1118 - accuracy: 0.9645 - auc: 0.9626 - val_loss: 0.0999 - val_accuracy: 0.9691 - val_auc: 0.9696 - lr: 0.0010\n",
      "Epoch 11/100\n",
      "2231/2231 [==============================] - ETA: 0s - loss: 0.1110 - accuracy: 0.9652 - auc: 0.9625\n",
      "Epoch 11: val_loss did not improve from 0.09986\n",
      "2231/2231 [==============================] - 8s 4ms/step - loss: 0.1110 - accuracy: 0.9652 - auc: 0.9625 - val_loss: 0.1006 - val_accuracy: 0.9692 - val_auc: 0.9678 - lr: 9.0484e-04\n",
      "Epoch 12/100\n",
      "2223/2231 [============================>.] - ETA: 0s - loss: 0.1112 - accuracy: 0.9651 - auc: 0.9622\n",
      "Epoch 12: val_loss improved from 0.09986 to 0.09876, saving model to best_adjusted_model.tf\n",
      "INFO:tensorflow:Assets written to: best_adjusted_model.tf/assets\n"
     ]
    },
    {
     "name": "stderr",
     "output_type": "stream",
     "text": [
      "INFO:tensorflow:Assets written to: best_adjusted_model.tf/assets\n"
     ]
    },
    {
     "name": "stdout",
     "output_type": "stream",
     "text": [
      "2231/2231 [==============================] - 10s 5ms/step - loss: 0.1112 - accuracy: 0.9651 - auc: 0.9622 - val_loss: 0.0988 - val_accuracy: 0.9693 - val_auc: 0.9688 - lr: 8.1873e-04\n",
      "Epoch 13/100\n",
      "2226/2231 [============================>.] - ETA: 0s - loss: 0.1097 - accuracy: 0.9649 - auc: 0.9625\n",
      "Epoch 13: val_loss improved from 0.09876 to 0.09734, saving model to best_adjusted_model.tf\n",
      "INFO:tensorflow:Assets written to: best_adjusted_model.tf/assets\n"
     ]
    },
    {
     "name": "stderr",
     "output_type": "stream",
     "text": [
      "INFO:tensorflow:Assets written to: best_adjusted_model.tf/assets\n"
     ]
    },
    {
     "name": "stdout",
     "output_type": "stream",
     "text": [
      "2231/2231 [==============================] - 10s 5ms/step - loss: 0.1097 - accuracy: 0.9649 - auc: 0.9625 - val_loss: 0.0973 - val_accuracy: 0.9699 - val_auc: 0.9696 - lr: 7.4082e-04\n",
      "Epoch 14/100\n",
      "2222/2231 [============================>.] - ETA: 0s - loss: 0.1092 - accuracy: 0.9651 - auc: 0.9624\n",
      "Epoch 14: val_loss improved from 0.09734 to 0.09620, saving model to best_adjusted_model.tf\n",
      "INFO:tensorflow:Assets written to: best_adjusted_model.tf/assets\n"
     ]
    },
    {
     "name": "stderr",
     "output_type": "stream",
     "text": [
      "INFO:tensorflow:Assets written to: best_adjusted_model.tf/assets\n"
     ]
    },
    {
     "name": "stdout",
     "output_type": "stream",
     "text": [
      "2231/2231 [==============================] - 10s 5ms/step - loss: 0.1092 - accuracy: 0.9651 - auc: 0.9623 - val_loss: 0.0962 - val_accuracy: 0.9694 - val_auc: 0.9708 - lr: 6.7032e-04\n",
      "Epoch 15/100\n",
      "2224/2231 [============================>.] - ETA: 0s - loss: 0.1086 - accuracy: 0.9652 - auc: 0.9626\n",
      "Epoch 15: val_loss did not improve from 0.09620\n",
      "2231/2231 [==============================] - 8s 4ms/step - loss: 0.1085 - accuracy: 0.9652 - auc: 0.9627 - val_loss: 0.0985 - val_accuracy: 0.9681 - val_auc: 0.9679 - lr: 6.0653e-04\n",
      "Epoch 16/100\n",
      "2220/2231 [============================>.] - ETA: 0s - loss: 0.1064 - accuracy: 0.9657 - auc: 0.9642\n",
      "Epoch 16: val_loss did not improve from 0.09620\n",
      "2231/2231 [==============================] - 9s 4ms/step - loss: 0.1064 - accuracy: 0.9657 - auc: 0.9642 - val_loss: 0.0982 - val_accuracy: 0.9700 - val_auc: 0.9692 - lr: 5.4881e-04\n",
      "Epoch 17/100\n",
      "2220/2231 [============================>.] - ETA: 0s - loss: 0.1049 - accuracy: 0.9660 - auc: 0.9652\n",
      "Epoch 17: val_loss improved from 0.09620 to 0.09613, saving model to best_adjusted_model.tf\n",
      "INFO:tensorflow:Assets written to: best_adjusted_model.tf/assets\n"
     ]
    },
    {
     "name": "stderr",
     "output_type": "stream",
     "text": [
      "INFO:tensorflow:Assets written to: best_adjusted_model.tf/assets\n"
     ]
    },
    {
     "name": "stdout",
     "output_type": "stream",
     "text": [
      "2231/2231 [==============================] - 10s 4ms/step - loss: 0.1049 - accuracy: 0.9660 - auc: 0.9651 - val_loss: 0.0961 - val_accuracy: 0.9688 - val_auc: 0.9700 - lr: 4.9659e-04\n",
      "Epoch 18/100\n",
      "2216/2231 [============================>.] - ETA: 0s - loss: 0.1044 - accuracy: 0.9664 - auc: 0.9647\n",
      "Epoch 18: val_loss improved from 0.09613 to 0.09450, saving model to best_adjusted_model.tf\n",
      "INFO:tensorflow:Assets written to: best_adjusted_model.tf/assets\n"
     ]
    },
    {
     "name": "stderr",
     "output_type": "stream",
     "text": [
      "INFO:tensorflow:Assets written to: best_adjusted_model.tf/assets\n"
     ]
    },
    {
     "name": "stdout",
     "output_type": "stream",
     "text": [
      "2231/2231 [==============================] - 10s 5ms/step - loss: 0.1046 - accuracy: 0.9662 - auc: 0.9647 - val_loss: 0.0945 - val_accuracy: 0.9700 - val_auc: 0.9693 - lr: 4.4933e-04\n",
      "Epoch 19/100\n",
      "2220/2231 [============================>.] - ETA: 0s - loss: 0.1045 - accuracy: 0.9658 - auc: 0.9645\n",
      "Epoch 19: val_loss improved from 0.09450 to 0.09391, saving model to best_adjusted_model.tf\n",
      "INFO:tensorflow:Assets written to: best_adjusted_model.tf/assets\n"
     ]
    },
    {
     "name": "stderr",
     "output_type": "stream",
     "text": [
      "INFO:tensorflow:Assets written to: best_adjusted_model.tf/assets\n"
     ]
    },
    {
     "name": "stdout",
     "output_type": "stream",
     "text": [
      "2231/2231 [==============================] - 10s 5ms/step - loss: 0.1046 - accuracy: 0.9657 - auc: 0.9645 - val_loss: 0.0939 - val_accuracy: 0.9692 - val_auc: 0.9698 - lr: 4.0657e-04\n",
      "Epoch 20/100\n",
      "2218/2231 [============================>.] - ETA: 0s - loss: 0.1037 - accuracy: 0.9665 - auc: 0.9639\n",
      "Epoch 20: val_loss improved from 0.09391 to 0.09381, saving model to best_adjusted_model.tf\n",
      "INFO:tensorflow:Assets written to: best_adjusted_model.tf/assets\n"
     ]
    },
    {
     "name": "stderr",
     "output_type": "stream",
     "text": [
      "INFO:tensorflow:Assets written to: best_adjusted_model.tf/assets\n"
     ]
    },
    {
     "name": "stdout",
     "output_type": "stream",
     "text": [
      "2231/2231 [==============================] - 11s 5ms/step - loss: 0.1039 - accuracy: 0.9665 - auc: 0.9638 - val_loss: 0.0938 - val_accuracy: 0.9699 - val_auc: 0.9681 - lr: 3.6788e-04\n",
      "Epoch 21/100\n",
      "2223/2231 [============================>.] - ETA: 0s - loss: 0.1025 - accuracy: 0.9665 - auc: 0.9657\n",
      "Epoch 21: val_loss improved from 0.09381 to 0.09275, saving model to best_adjusted_model.tf\n",
      "INFO:tensorflow:Assets written to: best_adjusted_model.tf/assets\n"
     ]
    },
    {
     "name": "stderr",
     "output_type": "stream",
     "text": [
      "INFO:tensorflow:Assets written to: best_adjusted_model.tf/assets\n"
     ]
    },
    {
     "name": "stdout",
     "output_type": "stream",
     "text": [
      "2231/2231 [==============================] - 11s 5ms/step - loss: 0.1025 - accuracy: 0.9665 - auc: 0.9657 - val_loss: 0.0928 - val_accuracy: 0.9709 - val_auc: 0.9691 - lr: 3.3287e-04\n",
      "Epoch 22/100\n",
      "2223/2231 [============================>.] - ETA: 0s - loss: 0.1015 - accuracy: 0.9666 - auc: 0.9657\n",
      "Epoch 22: val_loss improved from 0.09275 to 0.09076, saving model to best_adjusted_model.tf\n",
      "INFO:tensorflow:Assets written to: best_adjusted_model.tf/assets\n"
     ]
    },
    {
     "name": "stderr",
     "output_type": "stream",
     "text": [
      "INFO:tensorflow:Assets written to: best_adjusted_model.tf/assets\n"
     ]
    },
    {
     "name": "stdout",
     "output_type": "stream",
     "text": [
      "2231/2231 [==============================] - 11s 5ms/step - loss: 0.1015 - accuracy: 0.9666 - auc: 0.9657 - val_loss: 0.0908 - val_accuracy: 0.9708 - val_auc: 0.9695 - lr: 3.0119e-04\n",
      "Epoch 23/100\n",
      "2225/2231 [============================>.] - ETA: 0s - loss: 0.1019 - accuracy: 0.9664 - auc: 0.9649\n",
      "Epoch 23: val_loss improved from 0.09076 to 0.09054, saving model to best_adjusted_model.tf\n",
      "INFO:tensorflow:Assets written to: best_adjusted_model.tf/assets\n"
     ]
    },
    {
     "name": "stderr",
     "output_type": "stream",
     "text": [
      "INFO:tensorflow:Assets written to: best_adjusted_model.tf/assets\n"
     ]
    },
    {
     "name": "stdout",
     "output_type": "stream",
     "text": [
      "2231/2231 [==============================] - 11s 5ms/step - loss: 0.1017 - accuracy: 0.9664 - auc: 0.9650 - val_loss: 0.0905 - val_accuracy: 0.9712 - val_auc: 0.9709 - lr: 2.7253e-04\n",
      "Epoch 24/100\n",
      "2231/2231 [==============================] - ETA: 0s - loss: 0.1013 - accuracy: 0.9666 - auc: 0.9652\n",
      "Epoch 24: val_loss did not improve from 0.09054\n",
      "2231/2231 [==============================] - 8s 4ms/step - loss: 0.1013 - accuracy: 0.9666 - auc: 0.9652 - val_loss: 0.0920 - val_accuracy: 0.9703 - val_auc: 0.9697 - lr: 2.4660e-04\n",
      "Epoch 25/100\n",
      "2222/2231 [============================>.] - ETA: 0s - loss: 0.1004 - accuracy: 0.9670 - auc: 0.9654\n",
      "Epoch 25: val_loss improved from 0.09054 to 0.09045, saving model to best_adjusted_model.tf\n",
      "INFO:tensorflow:Assets written to: best_adjusted_model.tf/assets\n"
     ]
    },
    {
     "name": "stderr",
     "output_type": "stream",
     "text": [
      "INFO:tensorflow:Assets written to: best_adjusted_model.tf/assets\n"
     ]
    },
    {
     "name": "stdout",
     "output_type": "stream",
     "text": [
      "2231/2231 [==============================] - 10s 5ms/step - loss: 0.1005 - accuracy: 0.9670 - auc: 0.9654 - val_loss: 0.0905 - val_accuracy: 0.9713 - val_auc: 0.9697 - lr: 2.2313e-04\n",
      "Epoch 26/100\n",
      "2218/2231 [============================>.] - ETA: 0s - loss: 0.0998 - accuracy: 0.9672 - auc: 0.9659\n",
      "Epoch 26: val_loss improved from 0.09045 to 0.08963, saving model to best_adjusted_model.tf\n",
      "INFO:tensorflow:Assets written to: best_adjusted_model.tf/assets\n"
     ]
    },
    {
     "name": "stderr",
     "output_type": "stream",
     "text": [
      "INFO:tensorflow:Assets written to: best_adjusted_model.tf/assets\n"
     ]
    },
    {
     "name": "stdout",
     "output_type": "stream",
     "text": [
      "2231/2231 [==============================] - 11s 5ms/step - loss: 0.1000 - accuracy: 0.9671 - auc: 0.9659 - val_loss: 0.0896 - val_accuracy: 0.9714 - val_auc: 0.9703 - lr: 2.0190e-04\n",
      "Epoch 27/100\n",
      "2222/2231 [============================>.] - ETA: 0s - loss: 0.0981 - accuracy: 0.9672 - auc: 0.9674\n",
      "Epoch 27: val_loss did not improve from 0.08963\n",
      "2231/2231 [==============================] - 9s 4ms/step - loss: 0.0983 - accuracy: 0.9671 - auc: 0.9673 - val_loss: 0.0905 - val_accuracy: 0.9708 - val_auc: 0.9702 - lr: 1.8268e-04\n",
      "Epoch 28/100\n",
      "2221/2231 [============================>.] - ETA: 0s - loss: 0.0999 - accuracy: 0.9668 - auc: 0.9657\n",
      "Epoch 28: val_loss did not improve from 0.08963\n",
      "2231/2231 [==============================] - 8s 4ms/step - loss: 0.1000 - accuracy: 0.9668 - auc: 0.9657 - val_loss: 0.0902 - val_accuracy: 0.9710 - val_auc: 0.9701 - lr: 1.6530e-04\n",
      "Epoch 29/100\n",
      "2225/2231 [============================>.] - ETA: 0s - loss: 0.0978 - accuracy: 0.9674 - auc: 0.9673\n",
      "Epoch 29: val_loss did not improve from 0.08963\n",
      "2231/2231 [==============================] - 8s 4ms/step - loss: 0.0977 - accuracy: 0.9674 - auc: 0.9673 - val_loss: 0.0899 - val_accuracy: 0.9705 - val_auc: 0.9704 - lr: 1.4957e-04\n",
      "Epoch 30/100\n",
      "2224/2231 [============================>.] - ETA: 0s - loss: 0.0982 - accuracy: 0.9675 - auc: 0.9669\n",
      "Epoch 30: val_loss improved from 0.08963 to 0.08877, saving model to best_adjusted_model.tf\n",
      "INFO:tensorflow:Assets written to: best_adjusted_model.tf/assets\n"
     ]
    },
    {
     "name": "stderr",
     "output_type": "stream",
     "text": [
      "INFO:tensorflow:Assets written to: best_adjusted_model.tf/assets\n"
     ]
    },
    {
     "name": "stdout",
     "output_type": "stream",
     "text": [
      "2231/2231 [==============================] - 11s 5ms/step - loss: 0.0982 - accuracy: 0.9675 - auc: 0.9669 - val_loss: 0.0888 - val_accuracy: 0.9715 - val_auc: 0.9705 - lr: 1.3534e-04\n",
      "Epoch 31/100\n",
      "2226/2231 [============================>.] - ETA: 0s - loss: 0.0974 - accuracy: 0.9673 - auc: 0.9672\n",
      "Epoch 31: val_loss did not improve from 0.08877\n",
      "2231/2231 [==============================] - 8s 4ms/step - loss: 0.0974 - accuracy: 0.9673 - auc: 0.9672 - val_loss: 0.0896 - val_accuracy: 0.9714 - val_auc: 0.9702 - lr: 1.2246e-04\n",
      "Epoch 32/100\n",
      "2223/2231 [============================>.] - ETA: 0s - loss: 0.0984 - accuracy: 0.9674 - auc: 0.9663\n",
      "Epoch 32: val_loss did not improve from 0.08877\n",
      "2231/2231 [==============================] - 9s 4ms/step - loss: 0.0983 - accuracy: 0.9674 - auc: 0.9663 - val_loss: 0.0893 - val_accuracy: 0.9710 - val_auc: 0.9701 - lr: 1.1080e-04\n",
      "Epoch 33/100\n",
      "2224/2231 [============================>.] - ETA: 0s - loss: 0.0974 - accuracy: 0.9680 - auc: 0.9661\n",
      "Epoch 33: val_loss improved from 0.08877 to 0.08834, saving model to best_adjusted_model.tf\n",
      "INFO:tensorflow:Assets written to: best_adjusted_model.tf/assets\n"
     ]
    },
    {
     "name": "stderr",
     "output_type": "stream",
     "text": [
      "INFO:tensorflow:Assets written to: best_adjusted_model.tf/assets\n"
     ]
    },
    {
     "name": "stdout",
     "output_type": "stream",
     "text": [
      "2231/2231 [==============================] - 11s 5ms/step - loss: 0.0975 - accuracy: 0.9680 - auc: 0.9661 - val_loss: 0.0883 - val_accuracy: 0.9716 - val_auc: 0.9708 - lr: 1.0026e-04\n",
      "Epoch 34/100\n",
      "2219/2231 [============================>.] - ETA: 0s - loss: 0.0973 - accuracy: 0.9678 - auc: 0.9666\n",
      "Epoch 34: val_loss improved from 0.08834 to 0.08745, saving model to best_adjusted_model.tf\n",
      "INFO:tensorflow:Assets written to: best_adjusted_model.tf/assets\n"
     ]
    },
    {
     "name": "stderr",
     "output_type": "stream",
     "text": [
      "INFO:tensorflow:Assets written to: best_adjusted_model.tf/assets\n"
     ]
    },
    {
     "name": "stdout",
     "output_type": "stream",
     "text": [
      "2231/2231 [==============================] - 11s 5ms/step - loss: 0.0973 - accuracy: 0.9677 - auc: 0.9667 - val_loss: 0.0874 - val_accuracy: 0.9719 - val_auc: 0.9706 - lr: 9.0718e-05\n",
      "Epoch 35/100\n",
      "2219/2231 [============================>.] - ETA: 0s - loss: 0.0970 - accuracy: 0.9672 - auc: 0.9674\n",
      "Epoch 35: val_loss did not improve from 0.08745\n",
      "2231/2231 [==============================] - 8s 4ms/step - loss: 0.0968 - accuracy: 0.9673 - auc: 0.9675 - val_loss: 0.0891 - val_accuracy: 0.9714 - val_auc: 0.9696 - lr: 8.2085e-05\n",
      "Epoch 36/100\n",
      "2221/2231 [============================>.] - ETA: 0s - loss: 0.0973 - accuracy: 0.9675 - auc: 0.9667\n",
      "Epoch 36: val_loss did not improve from 0.08745\n",
      "2231/2231 [==============================] - 8s 4ms/step - loss: 0.0973 - accuracy: 0.9675 - auc: 0.9667 - val_loss: 0.0883 - val_accuracy: 0.9723 - val_auc: 0.9695 - lr: 7.4273e-05\n",
      "Epoch 37/100\n",
      "2225/2231 [============================>.] - ETA: 0s - loss: 0.0965 - accuracy: 0.9673 - auc: 0.9674\n",
      "Epoch 37: val_loss did not improve from 0.08745\n",
      "2231/2231 [==============================] - 8s 4ms/step - loss: 0.0965 - accuracy: 0.9673 - auc: 0.9674 - val_loss: 0.0888 - val_accuracy: 0.9711 - val_auc: 0.9706 - lr: 6.7205e-05\n",
      "Epoch 38/100\n",
      "2219/2231 [============================>.] - ETA: 0s - loss: 0.0962 - accuracy: 0.9677 - auc: 0.9674\n",
      "Epoch 38: val_loss did not improve from 0.08745\n",
      "2231/2231 [==============================] - 8s 4ms/step - loss: 0.0962 - accuracy: 0.9677 - auc: 0.9675 - val_loss: 0.0875 - val_accuracy: 0.9723 - val_auc: 0.9703 - lr: 6.0810e-05\n",
      "Epoch 39/100\n",
      "2229/2231 [============================>.] - ETA: 0s - loss: 0.0956 - accuracy: 0.9680 - auc: 0.9675\n",
      "Epoch 39: val_loss did not improve from 0.08745\n",
      "2231/2231 [==============================] - 8s 4ms/step - loss: 0.0957 - accuracy: 0.9680 - auc: 0.9674 - val_loss: 0.0877 - val_accuracy: 0.9715 - val_auc: 0.9699 - lr: 5.5023e-05\n",
      "Epoch 40/100\n",
      "2229/2231 [============================>.] - ETA: 0s - loss: 0.0953 - accuracy: 0.9681 - auc: 0.9678\n",
      "Epoch 40: val_loss did not improve from 0.08745\n",
      "2231/2231 [==============================] - 9s 4ms/step - loss: 0.0953 - accuracy: 0.9681 - auc: 0.9678 - val_loss: 0.0876 - val_accuracy: 0.9715 - val_auc: 0.9706 - lr: 4.9787e-05\n",
      "Epoch 41/100\n",
      "2223/2231 [============================>.] - ETA: 0s - loss: 0.0948 - accuracy: 0.9683 - auc: 0.9679\n",
      "Epoch 41: val_loss did not improve from 0.08745\n",
      "2231/2231 [==============================] - 9s 4ms/step - loss: 0.0949 - accuracy: 0.9683 - auc: 0.9678 - val_loss: 0.0882 - val_accuracy: 0.9716 - val_auc: 0.9697 - lr: 4.5049e-05\n",
      "Epoch 42/100\n",
      "2226/2231 [============================>.] - ETA: 0s - loss: 0.0948 - accuracy: 0.9679 - auc: 0.9684\n",
      "Epoch 42: val_loss did not improve from 0.08745\n",
      "2231/2231 [==============================] - 8s 4ms/step - loss: 0.0947 - accuracy: 0.9680 - auc: 0.9685 - val_loss: 0.0875 - val_accuracy: 0.9720 - val_auc: 0.9705 - lr: 4.0762e-05\n",
      "Epoch 43/100\n",
      "2223/2231 [============================>.] - ETA: 0s - loss: 0.0944 - accuracy: 0.9680 - auc: 0.9689\n",
      "Epoch 43: val_loss improved from 0.08745 to 0.08710, saving model to best_adjusted_model.tf\n",
      "INFO:tensorflow:Assets written to: best_adjusted_model.tf/assets\n"
     ]
    },
    {
     "name": "stderr",
     "output_type": "stream",
     "text": [
      "INFO:tensorflow:Assets written to: best_adjusted_model.tf/assets\n"
     ]
    },
    {
     "name": "stdout",
     "output_type": "stream",
     "text": [
      "2231/2231 [==============================] - 10s 5ms/step - loss: 0.0947 - accuracy: 0.9680 - auc: 0.9686 - val_loss: 0.0871 - val_accuracy: 0.9722 - val_auc: 0.9705 - lr: 3.6883e-05\n",
      "Epoch 44/100\n",
      "2221/2231 [============================>.] - ETA: 0s - loss: 0.0952 - accuracy: 0.9678 - auc: 0.9678\n",
      "Epoch 44: val_loss improved from 0.08710 to 0.08705, saving model to best_adjusted_model.tf\n",
      "INFO:tensorflow:Assets written to: best_adjusted_model.tf/assets\n"
     ]
    },
    {
     "name": "stderr",
     "output_type": "stream",
     "text": [
      "INFO:tensorflow:Assets written to: best_adjusted_model.tf/assets\n"
     ]
    },
    {
     "name": "stdout",
     "output_type": "stream",
     "text": [
      "2231/2231 [==============================] - 10s 5ms/step - loss: 0.0953 - accuracy: 0.9678 - auc: 0.9677 - val_loss: 0.0870 - val_accuracy: 0.9720 - val_auc: 0.9706 - lr: 3.3373e-05\n",
      "Epoch 45/100\n",
      "2231/2231 [==============================] - ETA: 0s - loss: 0.0944 - accuracy: 0.9681 - auc: 0.9682\n",
      "Epoch 45: val_loss improved from 0.08705 to 0.08679, saving model to best_adjusted_model.tf\n",
      "INFO:tensorflow:Assets written to: best_adjusted_model.tf/assets\n"
     ]
    },
    {
     "name": "stderr",
     "output_type": "stream",
     "text": [
      "INFO:tensorflow:Assets written to: best_adjusted_model.tf/assets\n"
     ]
    },
    {
     "name": "stdout",
     "output_type": "stream",
     "text": [
      "2231/2231 [==============================] - 10s 4ms/step - loss: 0.0944 - accuracy: 0.9681 - auc: 0.9682 - val_loss: 0.0868 - val_accuracy: 0.9722 - val_auc: 0.9701 - lr: 3.0197e-05\n",
      "Epoch 46/100\n",
      "2231/2231 [==============================] - ETA: 0s - loss: 0.0942 - accuracy: 0.9687 - auc: 0.9680\n",
      "Epoch 46: val_loss did not improve from 0.08679\n",
      "2231/2231 [==============================] - 8s 4ms/step - loss: 0.0942 - accuracy: 0.9687 - auc: 0.9680 - val_loss: 0.0872 - val_accuracy: 0.9719 - val_auc: 0.9700 - lr: 2.7324e-05\n",
      "Epoch 47/100\n",
      "2220/2231 [============================>.] - ETA: 0s - loss: 0.0947 - accuracy: 0.9684 - auc: 0.9684\n",
      "Epoch 47: val_loss did not improve from 0.08679\n",
      "2231/2231 [==============================] - 8s 4ms/step - loss: 0.0946 - accuracy: 0.9684 - auc: 0.9684 - val_loss: 0.0871 - val_accuracy: 0.9714 - val_auc: 0.9701 - lr: 2.4723e-05\n",
      "Epoch 48/100\n",
      "2218/2231 [============================>.] - ETA: 0s - loss: 0.0953 - accuracy: 0.9681 - auc: 0.9678\n",
      "Epoch 48: val_loss did not improve from 0.08679\n",
      "2231/2231 [==============================] - 8s 4ms/step - loss: 0.0953 - accuracy: 0.9680 - auc: 0.9677 - val_loss: 0.0870 - val_accuracy: 0.9720 - val_auc: 0.9702 - lr: 2.2371e-05\n",
      "Epoch 49/100\n",
      "2227/2231 [============================>.] - ETA: 0s - loss: 0.0938 - accuracy: 0.9683 - auc: 0.9688\n",
      "Epoch 49: val_loss did not improve from 0.08679\n",
      "2231/2231 [==============================] - 9s 4ms/step - loss: 0.0938 - accuracy: 0.9683 - auc: 0.9688 - val_loss: 0.0878 - val_accuracy: 0.9715 - val_auc: 0.9697 - lr: 2.0242e-05\n",
      "Epoch 50/100\n",
      "2231/2231 [==============================] - ETA: 0s - loss: 0.0947 - accuracy: 0.9678 - auc: 0.9681\n",
      "Epoch 50: val_loss improved from 0.08679 to 0.08671, saving model to best_adjusted_model.tf\n",
      "INFO:tensorflow:Assets written to: best_adjusted_model.tf/assets\n"
     ]
    },
    {
     "name": "stderr",
     "output_type": "stream",
     "text": [
      "INFO:tensorflow:Assets written to: best_adjusted_model.tf/assets\n"
     ]
    },
    {
     "name": "stdout",
     "output_type": "stream",
     "text": [
      "2231/2231 [==============================] - 10s 5ms/step - loss: 0.0947 - accuracy: 0.9678 - auc: 0.9681 - val_loss: 0.0867 - val_accuracy: 0.9721 - val_auc: 0.9701 - lr: 1.8316e-05\n",
      "Epoch 51/100\n",
      "2223/2231 [============================>.] - ETA: 0s - loss: 0.0938 - accuracy: 0.9683 - auc: 0.9690\n",
      "Epoch 51: val_loss did not improve from 0.08671\n",
      "2231/2231 [==============================] - 8s 4ms/step - loss: 0.0938 - accuracy: 0.9683 - auc: 0.9691 - val_loss: 0.0872 - val_accuracy: 0.9718 - val_auc: 0.9701 - lr: 1.6573e-05\n",
      "Epoch 52/100\n",
      "2218/2231 [============================>.] - ETA: 0s - loss: 0.0949 - accuracy: 0.9679 - auc: 0.9681\n",
      "Epoch 52: val_loss did not improve from 0.08671\n",
      "2231/2231 [==============================] - 8s 4ms/step - loss: 0.0949 - accuracy: 0.9680 - auc: 0.9681 - val_loss: 0.0874 - val_accuracy: 0.9718 - val_auc: 0.9700 - lr: 1.4996e-05\n",
      "Epoch 53/100\n",
      "2222/2231 [============================>.] - ETA: 0s - loss: 0.0954 - accuracy: 0.9677 - auc: 0.9677\n",
      "Epoch 53: val_loss did not improve from 0.08671\n",
      "2231/2231 [==============================] - 8s 4ms/step - loss: 0.0953 - accuracy: 0.9678 - auc: 0.9677 - val_loss: 0.0872 - val_accuracy: 0.9720 - val_auc: 0.9701 - lr: 1.3569e-05\n",
      "Epoch 54/100\n",
      "2222/2231 [============================>.] - ETA: 0s - loss: 0.0946 - accuracy: 0.9678 - auc: 0.9687\n",
      "Epoch 54: val_loss did not improve from 0.08671\n",
      "2231/2231 [==============================] - 9s 4ms/step - loss: 0.0947 - accuracy: 0.9677 - auc: 0.9687 - val_loss: 0.0875 - val_accuracy: 0.9713 - val_auc: 0.9699 - lr: 1.2277e-05\n",
      "Epoch 55/100\n",
      "2229/2231 [============================>.] - ETA: 0s - loss: 0.0941 - accuracy: 0.9683 - auc: 0.9686\n",
      "Epoch 55: val_loss did not improve from 0.08671\n",
      "2231/2231 [==============================] - 8s 4ms/step - loss: 0.0942 - accuracy: 0.9683 - auc: 0.9686 - val_loss: 0.0869 - val_accuracy: 0.9718 - val_auc: 0.9703 - lr: 1.1109e-05\n",
      "Epoch 56/100\n",
      "2217/2231 [============================>.] - ETA: 0s - loss: 0.0934 - accuracy: 0.9683 - auc: 0.9696\n",
      "Epoch 56: val_loss did not improve from 0.08671\n",
      "2231/2231 [==============================] - 8s 4ms/step - loss: 0.0933 - accuracy: 0.9683 - auc: 0.9697 - val_loss: 0.0870 - val_accuracy: 0.9719 - val_auc: 0.9701 - lr: 1.0052e-05\n",
      "Epoch 57/100\n",
      "2218/2231 [============================>.] - ETA: 0s - loss: 0.0935 - accuracy: 0.9683 - auc: 0.9691\n",
      "Epoch 57: val_loss did not improve from 0.08671\n",
      "2231/2231 [==============================] - 8s 4ms/step - loss: 0.0935 - accuracy: 0.9683 - auc: 0.9691 - val_loss: 0.0867 - val_accuracy: 0.9719 - val_auc: 0.9702 - lr: 9.0953e-06\n",
      "Epoch 58/100\n",
      "2224/2231 [============================>.] - ETA: 0s - loss: 0.0938 - accuracy: 0.9681 - auc: 0.9685\n",
      "Epoch 58: val_loss did not improve from 0.08671\n",
      "2231/2231 [==============================] - 8s 4ms/step - loss: 0.0938 - accuracy: 0.9681 - auc: 0.9686 - val_loss: 0.0870 - val_accuracy: 0.9720 - val_auc: 0.9701 - lr: 8.2297e-06\n",
      "Epoch 59/100\n",
      "2222/2231 [============================>.] - ETA: 0s - loss: 0.0936 - accuracy: 0.9687 - auc: 0.9685\n",
      "Epoch 59: val_loss did not improve from 0.08671\n",
      "2231/2231 [==============================] - 8s 4ms/step - loss: 0.0936 - accuracy: 0.9687 - auc: 0.9686 - val_loss: 0.0870 - val_accuracy: 0.9718 - val_auc: 0.9702 - lr: 7.4466e-06\n",
      "Epoch 60/100\n",
      "2224/2231 [============================>.] - ETA: 0s - loss: 0.0933 - accuracy: 0.9685 - auc: 0.9693\n",
      "Epoch 60: val_loss did not improve from 0.08671\n",
      "2231/2231 [==============================] - 8s 4ms/step - loss: 0.0932 - accuracy: 0.9685 - auc: 0.9694 - val_loss: 0.0870 - val_accuracy: 0.9719 - val_auc: 0.9701 - lr: 6.7379e-06\n",
      "Epoch 60: early stopping\n"
     ]
    }
   ],
   "source": [
    "import tensorflow as tf\n",
    "\n",
    "callbacks = [\n",
    "    EarlyStopping(monitor='val_loss', patience=10, verbose=1, mode='min'),\n",
    "    ModelCheckpoint('best_adjusted_model.tf', monitor='val_loss', save_best_only=True, mode='min', verbose=1),\n",
    "    LearningRateScheduler(scheduler)\n",
    "]\n",
    "\n",
    "# Retrain the model with the validation set and callbacks\n",
    "history = model.fit(X_train, y_train, validation_data=(X_val, y_val),\n",
    "                    epochs=100, batch_size=32, callbacks=callbacks, verbose=1)"
   ]
  },
  {
   "cell_type": "markdown",
   "id": "1d9c5270-9f3e-4193-a709-f2ef3c49d8b0",
   "metadata": {},
   "source": [
    "##### Reevaluating model with adjusted metrics"
   ]
  },
  {
   "cell_type": "code",
   "execution_count": 31,
   "id": "84caee8f-02aa-4f6a-87b9-06d3b0993401",
   "metadata": {},
   "outputs": [
    {
     "name": "stdout",
     "output_type": "stream",
     "text": [
      "279/279 [==============================] - 0s 830us/step\n",
      "ROC AUC: 0.9748\n",
      "Confusion Matrix:\n",
      "[[8217    0]\n",
      " [ 241  466]]\n",
      "Classification Report:\n",
      "                 precision    recall  f1-score   support\n",
      "\n",
      "              0  0.971506266256798 1.000000000000000 0.985547226386807      8217\n",
      "              1  1.000000000000000 0.659123055162659 0.794543904518329       707\n",
      "\n",
      "       accuracy                      0.972994173016585      8924\n",
      "      macro avg  0.985753133128399 0.829561527581330 0.890045565452568      8924\n",
      "   weighted avg  0.973763669860165 0.972994173016585 0.970415071684765      8924\n",
      "\n"
     ]
    }
   ],
   "source": [
    "# Load the best model\n",
    "best_adjusted_model = load_model('best_adjusted_model.tf')\n",
    "\n",
    "# Predict probabilities\n",
    "y_pred_probs = best_model.predict(X_test)\n",
    "\n",
    "\n",
    "threshold = 0.5  # This is adjustable\n",
    "y_pred = (y_pred_probs > threshold).astype(\"int32\")\n",
    "\n",
    "# Evaluate performance\n",
    "roc_auc = roc_auc_score(y_test, y_pred_probs)\n",
    "print(f\"ROC AUC: {roc_auc:.4f}\")\n",
    "\n",
    "cm = confusion_matrix(y_test, y_pred)\n",
    "print(\"Confusion Matrix:\")\n",
    "print(cm)\n",
    "\n",
    "print(\"Classification Report:\")\n",
    "print(classification_report(y_test, y_pred, digits=15))"
   ]
  },
  {
   "cell_type": "markdown",
   "id": "9459c4cb-0f6a-4296-9fdc-f747dbc9f437",
   "metadata": {},
   "source": [
    "##### Experimenting with Different Thresholds"
   ]
  },
  {
   "cell_type": "code",
   "execution_count": 32,
   "id": "d256b570-deb6-4fbf-a2dd-66f652c2b364",
   "metadata": {},
   "outputs": [
    {
     "data": {
      "image/png": "[encoded data removed]",
      "text/plain": [
       "<Figure size 1000x600 with 1 Axes>"
      ]
     },
     "metadata": {},
     "output_type": "display_data"
    }
   ],
   "source": [
    "from sklearn.metrics import precision_recall_curve\n",
    "import matplotlib.pyplot as plt\n",
    "\n",
    "precisions, recalls, thresholds = precision_recall_curve(y_test, y_pred_probs)\n",
    "\n",
    "plt.figure(figsize=(10, 6))\n",
    "plt.plot(thresholds, precisions[:-1], \"b--\", label=\"Precision\")\n",
    "plt.plot(thresholds, recalls[:-1], \"g-\", label=\"Recall\")\n",
    "plt.xlabel(\"Threshold\")\n",
    "plt.legend(loc=\"upper left\")\n",
    "plt.ylim([0,1])\n",
    "plt.show()"
   ]
  },
  {
   "cell_type": "markdown",
   "id": "4a0482f2-b111-47bd-ab71-891718c9d1b5",
   "metadata": {},
   "source": [
    "#### Addressing Class Imbalance"
   ]
  },
  {
   "cell_type": "code",
   "execution_count": 42,
   "id": "15f6e28f-00aa-4c48-b114-0deec44dd736",
   "metadata": {},
   "outputs": [],
   "source": [
    "from imblearn.over_sampling import SMOTE\n",
    "from sklearn.preprocessing import StandardScaler\n",
    "from sklearn.model_selection import train_test_split\n",
    "\n",
    "# Split the data first before applying SMOTE\n",
    "X_train, X_temp, y_train, y_temp = train_test_split(X, y, test_size=0.2, random_state=42)\n",
    "X_val, X_test, y_val, y_test = train_test_split(X_temp, y_temp, test_size=0.5, random_state=42)\n",
    "\n",
    "# Apply SMOTE only on the training data\n",
    "smote = SMOTE(random_state=42)\n",
    "X_train_sm, y_train_sm = smote.fit_resample(X_train, y_train)\n",
    "\n",
    "# Scale the data after applying SMOTE\n",
    "scaler = StandardScaler()\n",
    "X_train_sm = scaler.fit_transform(X_train_sm)\n",
    "X_val = scaler.transform(X_val)\n",
    "X_test = scaler.transform(X_test)"
   ]
  },
  {
   "cell_type": "markdown",
   "id": "abff16ca-e04a-4b62-aa92-9990c5ca4e5e",
   "metadata": {},
   "source": [
    "##### Incorporating Class Weights"
   ]
  },
  {
   "cell_type": "code",
   "execution_count": 43,
   "id": "b04a4ca4-01bd-4622-8e84-3c8daca61c5e",
   "metadata": {},
   "outputs": [],
   "source": [
    "from sklearn.utils.class_weight import compute_class_weight\n",
    "\n",
    "# Compute class weights\n",
    "classes = np.unique(y_train_sm)\n",
    "class_weights = compute_class_weight(class_weight='balanced', classes=classes, y=y_train_sm)\n",
    "class_weight_dict = {classes[i]: weight for i, weight in enumerate(class_weights)}"
   ]
  },
  {
   "cell_type": "code",
   "execution_count": 48,
   "id": "c6c3bffe-5601-45be-939e-2654167dc6e7",
   "metadata": {},
   "outputs": [
    {
     "name": "stdout",
     "output_type": "stream",
     "text": [
      "Epoch 1/100\n",
      "4130/4132 [============================>.] - ETA: 0s - loss: 0.2053 - accuracy: 0.9299 - auc: 0.9826\n",
      "Epoch 1: val_loss improved from inf to 0.14581, saving model to best_model_adjusted_balanced.h5\n",
      "4132/4132 [==============================] - 19s 4ms/step - loss: 0.2054 - accuracy: 0.9299 - auc: 0.9826 - val_loss: 0.1458 - val_accuracy: 0.9505 - val_auc: 0.9631 - lr: 0.0010\n",
      "Epoch 2/100\n",
      "4124/4132 [============================>.] - ETA: 0s - loss: 0.1561 - accuracy: 0.9374 - auc: 0.9873\n",
      "Epoch 2: val_loss improved from 0.14581 to 0.13546, saving model to best_model_adjusted_balanced.h5\n",
      "4132/4132 [==============================] - 16s 4ms/step - loss: 0.1561 - accuracy: 0.9374 - auc: 0.9873 - val_loss: 0.1355 - val_accuracy: 0.9496 - val_auc: 0.9619 - lr: 0.0010\n",
      "Epoch 3/100\n",
      "4131/4132 [============================>.] - ETA: 0s - loss: 0.1515 - accuracy: 0.9386 - auc: 0.9878\n",
      "Epoch 3: val_loss improved from 0.13546 to 0.13544, saving model to best_model_adjusted_balanced.h5\n",
      "4132/4132 [==============================] - 16s 4ms/step - loss: 0.1515 - accuracy: 0.9386 - auc: 0.9878 - val_loss: 0.1354 - val_accuracy: 0.9527 - val_auc: 0.9644 - lr: 0.0010\n",
      "Epoch 4/100\n",
      "4117/4132 [============================>.] - ETA: 0s - loss: 0.1519 - accuracy: 0.9391 - auc: 0.9878\n",
      "Epoch 4: val_loss did not improve from 0.13544\n",
      "4132/4132 [==============================] - 14s 4ms/step - loss: 0.1519 - accuracy: 0.9391 - auc: 0.9878 - val_loss: 0.1419 - val_accuracy: 0.9519 - val_auc: 0.9626 - lr: 0.0010\n",
      "Epoch 5/100\n",
      "4123/4132 [============================>.] - ETA: 0s - loss: 0.1509 - accuracy: 0.9389 - auc: 0.9879\n",
      "Epoch 5: val_loss improved from 0.13544 to 0.13351, saving model to best_model_adjusted_balanced.h5\n",
      "4132/4132 [==============================] - 16s 4ms/step - loss: 0.1509 - accuracy: 0.9390 - auc: 0.9879 - val_loss: 0.1335 - val_accuracy: 0.9547 - val_auc: 0.9661 - lr: 0.0010\n",
      "Epoch 6/100\n",
      "4129/4132 [============================>.] - ETA: 0s - loss: 0.1504 - accuracy: 0.9391 - auc: 0.9879\n",
      "Epoch 6: val_loss did not improve from 0.13351\n",
      "4132/4132 [==============================] - 15s 4ms/step - loss: 0.1504 - accuracy: 0.9391 - auc: 0.9879 - val_loss: 0.1418 - val_accuracy: 0.9517 - val_auc: 0.9678 - lr: 0.0010\n",
      "Epoch 7/100\n",
      "4130/4132 [============================>.] - ETA: 0s - loss: 0.1500 - accuracy: 0.9397 - auc: 0.9881\n",
      "Epoch 7: val_loss did not improve from 0.13351\n",
      "4132/4132 [==============================] - 16s 4ms/step - loss: 0.1500 - accuracy: 0.9398 - auc: 0.9881 - val_loss: 0.1448 - val_accuracy: 0.9449 - val_auc: 0.9648 - lr: 0.0010\n",
      "Epoch 8/100\n",
      "4119/4132 [============================>.] - ETA: 0s - loss: 0.1493 - accuracy: 0.9400 - auc: 0.9882\n",
      "Epoch 8: val_loss did not improve from 0.13351\n",
      "4132/4132 [==============================] - 16s 4ms/step - loss: 0.1493 - accuracy: 0.9400 - auc: 0.9882 - val_loss: 0.1373 - val_accuracy: 0.9483 - val_auc: 0.9648 - lr: 0.0010\n",
      "Epoch 9/100\n",
      "4132/4132 [==============================] - ETA: 0s - loss: 0.1496 - accuracy: 0.9391 - auc: 0.9881\n",
      "Epoch 9: val_loss did not improve from 0.13351\n",
      "4132/4132 [==============================] - 16s 4ms/step - loss: 0.1496 - accuracy: 0.9391 - auc: 0.9881 - val_loss: 0.1481 - val_accuracy: 0.9412 - val_auc: 0.9659 - lr: 0.0010\n",
      "Epoch 10/100\n",
      "4126/4132 [============================>.] - ETA: 0s - loss: 0.1487 - accuracy: 0.9396 - auc: 0.9882\n",
      "Epoch 10: val_loss did not improve from 0.13351\n",
      "4132/4132 [==============================] - 16s 4ms/step - loss: 0.1487 - accuracy: 0.9396 - auc: 0.9882 - val_loss: 0.1424 - val_accuracy: 0.9432 - val_auc: 0.9666 - lr: 0.0010\n",
      "Epoch 11/100\n",
      "4129/4132 [============================>.] - ETA: 0s - loss: 0.1495 - accuracy: 0.9394 - auc: 0.9882\n",
      "Epoch 11: val_loss did not improve from 0.13351\n",
      "4132/4132 [==============================] - 16s 4ms/step - loss: 0.1495 - accuracy: 0.9394 - auc: 0.9882 - val_loss: 0.1389 - val_accuracy: 0.9479 - val_auc: 0.9656 - lr: 0.0010\n",
      "Epoch 12/100\n",
      "4130/4132 [============================>.] - ETA: 0s - loss: 0.1485 - accuracy: 0.9400 - auc: 0.9882\n",
      "Epoch 12: val_loss did not improve from 0.13351\n",
      "4132/4132 [==============================] - 16s 4ms/step - loss: 0.1485 - accuracy: 0.9400 - auc: 0.9882 - val_loss: 0.1497 - val_accuracy: 0.9414 - val_auc: 0.9672 - lr: 0.0010\n",
      "Epoch 13/100\n",
      "4131/4132 [============================>.] - ETA: 0s - loss: 0.1490 - accuracy: 0.9391 - auc: 0.9880\n",
      "Epoch 13: val_loss did not improve from 0.13351\n",
      "4132/4132 [==============================] - 14s 3ms/step - loss: 0.1490 - accuracy: 0.9391 - auc: 0.9880 - val_loss: 0.1443 - val_accuracy: 0.9398 - val_auc: 0.9657 - lr: 0.0010\n",
      "Epoch 14/100\n",
      "4131/4132 [============================>.] - ETA: 0s - loss: 0.1492 - accuracy: 0.9392 - auc: 0.9881\n",
      "Epoch 14: val_loss did not improve from 0.13351\n",
      "4132/4132 [==============================] - 15s 4ms/step - loss: 0.1492 - accuracy: 0.9392 - auc: 0.9881 - val_loss: 0.1366 - val_accuracy: 0.9502 - val_auc: 0.9669 - lr: 0.0010\n",
      "Epoch 15/100\n",
      "4123/4132 [============================>.] - ETA: 0s - loss: 0.1487 - accuracy: 0.9392 - auc: 0.9883\n",
      "Epoch 15: val_loss did not improve from 0.13351\n",
      "4132/4132 [==============================] - 16s 4ms/step - loss: 0.1488 - accuracy: 0.9392 - auc: 0.9883 - val_loss: 0.1369 - val_accuracy: 0.9450 - val_auc: 0.9669 - lr: 0.0010\n",
      "Epoch 15: early stopping\n"
     ]
    }
   ],
   "source": [
    "from tensorflow.keras.metrics import AUC\n",
    "from tensorflow.keras.callbacks import ReduceLROnPlateau\n",
    "\n",
    "# Adjusting the model compilation step to include AUC as a metric\n",
    "model.compile(optimizer=Adam(learning_rate=0.001),\n",
    "              loss='binary_crossentropy',\n",
    "              metrics=['accuracy', AUC(name='auc')])\n",
    "\n",
    "# Introduce a learning rate scheduler or reduction on plateau\n",
    "reduce_lr = ReduceLROnPlateau(monitor='val_auc', factor=0.2, patience=5, min_lr=0.001)\n",
    "\n",
    "def build_model(input_shape):\n",
    "    model = Sequential([\n",
    "        Dense(128, kernel_regularizer=l2(0.001), input_shape=(input_shape,)),\n",
    "        BatchNormalization(),\n",
    "        Activation('relu'),\n",
    "        Dropout(0.3),\n",
    "        Dense(64, kernel_regularizer=l2(0.001)),\n",
    "        BatchNormalization(),\n",
    "        Activation('relu'),\n",
    "        Dropout(0.3),\n",
    "        Dense(1, activation='sigmoid')\n",
    "    ])\n",
    "    return model\n",
    "\n",
    "model = build_model(X_train_sm.shape[1])\n",
    "\n",
    "# Compiling the model with AUC as a metric and introducing a learning rate reduction on plateau\n",
    "model.compile(optimizer=Adam(learning_rate=0.001),\n",
    "              loss='binary_crossentropy',\n",
    "              metrics=['accuracy', AUC(name='auc')])\n",
    "\n",
    "reduce_lr = ReduceLROnPlateau(monitor='val_auc', factor=0.2, patience=5, min_lr=0.001)\n",
    "\n",
    "# Training the model\n",
    "callbacks = [\n",
    "    EarlyStopping(monitor='val_loss', patience=10, verbose=1, mode='min'),\n",
    "    ModelCheckpoint('best_model_adjusted_balanced.h5', monitor='val_loss', save_best_only=True, mode='min', verbose=1),\n",
    "    reduce_lr\n",
    "]\n",
    "\n",
    "history = model.fit(X_train_sm, y_train_sm, validation_data=(X_val, y_val),\n",
    "                    epochs=100, batch_size=32, callbacks=callbacks, verbose=1)"
   ]
  },
  {
   "cell_type": "code",
   "execution_count": 49,
   "id": "4faada72-f15a-4d7c-9604-55fe6df44bdb",
   "metadata": {},
   "outputs": [
    {
     "name": "stdout",
     "output_type": "stream",
     "text": [
      "279/279 [==============================] - 0s 917us/step\n",
      "ROC AUC Score: 0.9660911874319961\n",
      "Confusion Matrix:\n",
      " [[8003  214]\n",
      " [ 200  507]]\n",
      "Classification Report:\n",
      "               precision    recall  f1-score   support\n",
      "\n",
      "           0      0.976     0.974     0.975      8217\n",
      "           1      0.703     0.717     0.710       707\n",
      "\n",
      "    accuracy                          0.954      8924\n",
      "   macro avg      0.839     0.846     0.842      8924\n",
      "weighted avg      0.954     0.954     0.954      8924\n",
      "\n"
     ]
    }
   ],
   "source": [
    "# Evaluate the model\n",
    "best_model = load_model('best_model_adjusted_balanced.h5')\n",
    "y_pred_probs = best_model.predict(X_test)\n",
    "y_pred = (y_pred_probs > 0.5).astype(int)\n",
    "\n",
    "print(\"ROC AUC Score:\", roc_auc_score(y_test, y_pred_probs))\n",
    "print(\"Confusion Matrix:\\n\", confusion_matrix(y_test, y_pred))\n",
    "print(\"Classification Report:\\n\", classification_report(y_test, y_pred, digits=3))"
   ]
  },
  {
   "cell_type": "markdown",
   "id": "6614a807-1a58-42c9-b577-6eeb3398592c",
   "metadata": {},
   "source": [
    "#### Hyperparameter Tuning"
   ]
  },
  {
   "cell_type": "code",
   "execution_count": 54,
   "id": "ea139983-95f8-40d5-bf2b-80be6360f1a6",
   "metadata": {},
   "outputs": [
    {
     "name": "stdout",
     "output_type": "stream",
     "text": [
      "Trial 10 Complete [00h 07m 30s]\n",
      "val_auc: 0.6596829493840536\n",
      "\n",
      "Best val_auc So Far: 0.7596463163693746\n",
      "Total elapsed time: 01h 16m 20s\n"
     ]
    }
   ],
   "source": [
    "'''\n",
    "from tensorflow.keras import Sequential\n",
    "from tensorflow.keras.layers import Dense, Dropout\n",
    "from tensorflow.keras.metrics import AUC\n",
    "from tensorflow.keras.optimizers import Adam\n",
    "from keras_tuner import RandomSearch, Objective, HyperParameters\n",
    "\n",
    "def build_model(hp):\n",
    "    model = Sequential()\n",
    "    model.add(Dense(units=hp.Int('units', min_value=32, max_value=512, step=32),\n",
    "                    activation='relu', input_shape=(X_train.shape[1],)))\n",
    "    model.add(Dropout(rate=hp.Float('dropout', min_value=0.0, max_value=0.5, step=0.1)))\n",
    "    model.add(Dense(1, activation='sigmoid'))\n",
    "    model.compile(optimizer=Adam(hp.Choice('learning_rate', values=[1e-2, 1e-3, 1e-4])),\n",
    "                  loss='binary_crossentropy',\n",
    "                  metrics=['accuracy', AUC(name='auc')])\n",
    "    return model\n",
    "\n",
    "# Use the corrected reference to Objective\n",
    "tuner = RandomSearch(\n",
    "    build_model,\n",
    "    objective=Objective('val_auc', direction='max'),  # Corrected reference\n",
    "    max_trials=10,\n",
    "    executions_per_trial=3,\n",
    "    directory='model_tuning',\n",
    "    project_name='diabetes_prediction'\n",
    ")\n",
    "\n",
    "# Proceed with the search\n",
    "tuner.search(X_train, y_train, epochs=30, validation_data=(X_val, y_val), verbose=2)\n",
    "\n",
    "# Get the best model\n",
    "best_model = tuner.get_best_models(num_models=1)[0]\n",
    "\n",
    "-------------\n",
    "results:\n",
    "Trial 10 Complete [00h 07m 30s]\n",
    "val_auc: 0.6596829493840536\n",
    "\n",
    "Best val_auc So Far: 0.7596463163693746\n",
    "Total elapsed time: 01h 16m 20s\n",
    "'''"
   ]
  },
  {
   "cell_type": "code",
   "execution_count": 68,
   "id": "20e4e6ab-8389-448c-a5db-cc376e39a06f",
   "metadata": {},
   "outputs": [
    {
     "name": "stderr",
     "output_type": "stream",
     "text": [
      "/N/soft/sles15/deeplearning/Python-3.11.5/lib/python3.11/site-packages/keras/src/engine/training.py:3079: UserWarning: You are saving your model as an HDF5 file via `model.save()`. This file format is considered legacy. We recommend using instead the native Keras format, e.g. `model.save('my_model.keras')`.\n",
      "  saving_api.save_model(\n"
     ]
    }
   ],
   "source": [
    "best_model = load_model('best_model_adjusted_balanced.h5')\n",
    "best_model.save('../backend/DjangoDiabetesBackend/model/DNN_Initial_Balanced.h5')"
   ]
  },
  {
   "cell_type": "code",
   "execution_count": null,
   "id": "8284d8c4-7fe0-4337-958d-059309db85e4",
   "metadata": {},
   "outputs": [],
   "source": []
  },
  {
   "cell_type": "code",
   "execution_count": null,
   "id": "c6237d4c-736b-46af-93d6-9e761cade7c8",
   "metadata": {},
   "outputs": [],
   "source": []
  }
 ],
 "metadata": {
  "kernelspec": {
   "display_name": "Python 3 (ipykernel)",
   "language": "python",
   "name": "python3"
  },
  "language_info": {
   "codemirror_mode": {
    "name": "ipython",
    "version": 3
   },
   "file_extension": ".py",
   "mimetype": "text/x-python",
   "name": "python",
   "nbconvert_exporter": "python",
   "pygments_lexer": "ipython3",
   "version": "3.11.5"
  }
 },
 "nbformat": 4,
 "nbformat_minor": 5
}
